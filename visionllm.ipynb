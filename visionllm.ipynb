{
 "cells": [
  {
   "cell_type": "markdown",
   "metadata": {},
   "source": [
    "https://arxiv.org/pdf/2312.16171 (prompts referenced from)"
   ]
  },
  {
   "cell_type": "code",
   "execution_count": 9,
   "metadata": {},
   "outputs": [],
   "source": [
    "import cv2\n",
    "import os\n",
    "from datetime import datetime\n",
    "from openai import OpenAI\n",
    "import csv\n",
    "import base64\n",
    "from dotenv import load_dotenv\n",
    "import pandas as pd\n",
    "import time"
   ]
  },
  {
   "cell_type": "code",
   "execution_count": 10,
   "metadata": {},
   "outputs": [],
   "source": [
    "def configure():\n",
    "    load_dotenv\n",
    "MODEL = \"gpt-4o-mini\"\n",
    "client = OpenAI(api_key=os.getenv('api_key'))"
   ]
  },
  {
   "cell_type": "code",
   "execution_count": 11,
   "metadata": {},
   "outputs": [],
   "source": [
    "\n",
    "def capture_and_save_frames(output_folder, max_frames=100):\n",
    "    if not os.path.exists(output_folder):\n",
    "        os.makedirs(output_folder)\n",
    "\n",
    "    cap = cv2.VideoCapture(0)  # 0 is usually the default camera\n",
    "    frame_count = 0\n",
    "    saved_count = 0\n",
    "\n",
    "    while frame_count < max_frames:\n",
    "        ret, frame = cap.read()\n",
    "        if not ret:\n",
    "            break\n",
    "\n",
    "        timestamp = time.time()\n",
    "        timestamp_str = datetime.fromtimestamp(timestamp).strftime('%H_%M_%S')\n",
    "        frame_filename = f\"frame_{timestamp_str}.jpg\"\n",
    "        frame_path = os.path.join(output_folder, frame_filename)\n",
    "        cv2.imwrite(frame_path, frame)\n",
    "        saved_count += 1\n",
    "        print(f\"Saved frame at {timestamp_str}\")\n",
    "\n",
    "        frame_count += 1\n",
    "\n",
    "    cap.release()\n",
    "    print(f\"Total frames captured: {frame_count}\")\n",
    "    print(f\"Frames saved: {saved_count}\")\n",
    "    return saved_count\n",
    "\n",
    "def process_frames(frames_folder, output_csv, max_frames=100):\n",
    "    with open(output_csv, 'w', newline='') as csvfile:\n",
    "        csvwriter = csv.writer(csvfile)\n",
    "        csvwriter.writerow(['Timestamp', 'Description'])\n",
    "        \n",
    "        frames = sorted(os.listdir(frames_folder))\n",
    "        \n",
    "        for frame_filename in frames[:max_frames]:\n",
    "            frame_path = os.path.join(frames_folder, frame_filename)\n",
    "            timestamp_str = frame_filename.split('_')[1].replace('.jpg', '')\n",
    "            \n",
    "            description = process_image(frame_path)\n",
    "            \n",
    "            csvwriter.writerow([timestamp_str, description])\n",
    "            \n",
    "            print(f\"Timestamp: {timestamp_str}\")\n",
    "            print(f\"Description: {description}\")\n",
    "            print(\"---\")\n",
    "        \n",
    "        if len(frames) > max_frames:\n",
    "            print(f\"Note: Only processed the first {max_frames} frames out of {len(frames)} total frames.\")\n",
    "\n",
    "def main(output_csv, max_frames=100):\n",
    "    configure()\n",
    "    frames_folder = \"captured_frames\"\n",
    "    \n",
    "    print(f\"Capturing and saving {max_frames} frames from webcam...\")\n",
    "    capture_and_save_frames(frames_folder, max_frames)\n",
    "    \n",
    "    print(f\"Processing the first {max_frames} frames with LLM...\")\n",
    "    process_frames(frames_folder, output_csv, max_frames)\n",
    "    \n",
    "    print(f\"Processing complete. Results saved to {output_csv}\")\n"
   ]
  },
  {
   "cell_type": "code",
   "execution_count": 12,
   "metadata": {},
   "outputs": [
    {
     "name": "stdout",
     "output_type": "stream",
     "text": [
      "Capturing and saving ./video_descriptions.csv frames from webcam...\n"
     ]
    },
    {
     "ename": "TypeError",
     "evalue": "'<' not supported between instances of 'int' and 'str'",
     "output_type": "error",
     "traceback": [
      "\u001b[1;31m---------------------------------------------------------------------------\u001b[0m",
      "\u001b[1;31mTypeError\u001b[0m                                 Traceback (most recent call last)",
      "Cell \u001b[1;32mIn[12], line 5\u001b[0m\n\u001b[0;32m      3\u001b[0m output_csv \u001b[38;5;241m=\u001b[39m \u001b[38;5;124m\"\u001b[39m\u001b[38;5;124m./video_descriptions.csv\u001b[39m\u001b[38;5;124m\"\u001b[39m\n\u001b[0;32m      4\u001b[0m max_frames_to_process \u001b[38;5;241m=\u001b[39m \u001b[38;5;241m100\u001b[39m\n\u001b[1;32m----> 5\u001b[0m \u001b[43mmain\u001b[49m\u001b[43m(\u001b[49m\u001b[43mvideo_path\u001b[49m\u001b[43m,\u001b[49m\u001b[43m \u001b[49m\u001b[43moutput_csv\u001b[49m\u001b[43m)\u001b[49m\n",
      "Cell \u001b[1;32mIn[11], line 56\u001b[0m, in \u001b[0;36mmain\u001b[1;34m(output_csv, max_frames)\u001b[0m\n\u001b[0;32m     53\u001b[0m frames_folder \u001b[38;5;241m=\u001b[39m \u001b[38;5;124m\"\u001b[39m\u001b[38;5;124mcaptured_frames\u001b[39m\u001b[38;5;124m\"\u001b[39m\n\u001b[0;32m     55\u001b[0m \u001b[38;5;28mprint\u001b[39m(\u001b[38;5;124mf\u001b[39m\u001b[38;5;124m\"\u001b[39m\u001b[38;5;124mCapturing and saving \u001b[39m\u001b[38;5;132;01m{\u001b[39;00mmax_frames\u001b[38;5;132;01m}\u001b[39;00m\u001b[38;5;124m frames from webcam...\u001b[39m\u001b[38;5;124m\"\u001b[39m)\n\u001b[1;32m---> 56\u001b[0m \u001b[43mcapture_and_save_frames\u001b[49m\u001b[43m(\u001b[49m\u001b[43mframes_folder\u001b[49m\u001b[43m,\u001b[49m\u001b[43m \u001b[49m\u001b[43mmax_frames\u001b[49m\u001b[43m)\u001b[49m\n\u001b[0;32m     58\u001b[0m \u001b[38;5;28mprint\u001b[39m(\u001b[38;5;124mf\u001b[39m\u001b[38;5;124m\"\u001b[39m\u001b[38;5;124mProcessing the first \u001b[39m\u001b[38;5;132;01m{\u001b[39;00mmax_frames\u001b[38;5;132;01m}\u001b[39;00m\u001b[38;5;124m frames with LLM...\u001b[39m\u001b[38;5;124m\"\u001b[39m)\n\u001b[0;32m     59\u001b[0m process_frames(frames_folder, output_csv, max_frames)\n",
      "Cell \u001b[1;32mIn[11], line 9\u001b[0m, in \u001b[0;36mcapture_and_save_frames\u001b[1;34m(output_folder, max_frames)\u001b[0m\n\u001b[0;32m      6\u001b[0m frame_count \u001b[38;5;241m=\u001b[39m \u001b[38;5;241m0\u001b[39m\n\u001b[0;32m      7\u001b[0m saved_count \u001b[38;5;241m=\u001b[39m \u001b[38;5;241m0\u001b[39m\n\u001b[1;32m----> 9\u001b[0m \u001b[38;5;28;01mwhile\u001b[39;00m \u001b[43mframe_count\u001b[49m\u001b[43m \u001b[49m\u001b[38;5;241;43m<\u001b[39;49m\u001b[43m \u001b[49m\u001b[43mmax_frames\u001b[49m:\n\u001b[0;32m     10\u001b[0m     ret, frame \u001b[38;5;241m=\u001b[39m cap\u001b[38;5;241m.\u001b[39mread()\n\u001b[0;32m     11\u001b[0m     \u001b[38;5;28;01mif\u001b[39;00m \u001b[38;5;129;01mnot\u001b[39;00m ret:\n",
      "\u001b[1;31mTypeError\u001b[0m: '<' not supported between instances of 'int' and 'str'"
     ]
    }
   ],
   "source": [
    "output_csv = \"./webcam_descriptions.csv\"\n",
    "max_frames_to_process = 100\n",
    "main(output_csv, max_frames_to_process)"
   ]
  },
  {
   "cell_type": "code",
   "execution_count": 5,
   "metadata": {},
   "outputs": [
    {
     "name": "stdout",
     "output_type": "stream",
     "text": [
      "Summary of CSV Descriptions:\n",
      "The video descriptions depict various scenes from a soccer match involving FC Barcelona and Real Madrid. \n",
      "\n",
      "A close-up showcases a player's legs in a Barcelona kit with golden cleats on a grassy field. \n",
      "\n",
      "A man in a suit walks past a player in a red and blue striped jersey. \n",
      "\n",
      "A soccer player in a red and blue striped jersey with the \"Barcelona\" logo walks on the field. \n",
      "\n",
      "Another player in a similar jersey looks up with a focused expression during the game. \n",
      "\n",
      "A young athlete in a blue and red striped jersey also displays a concentrated look. \n",
      "\n",
      "A player in a red and blue jersey with a yellow collar gazes upward with determination. \n",
      "\n",
      "The video captures a tense moment featuring Lionel Messi in a Barcelona jersey and Cristiano Ronaldo in a white jersey, with officials and fans in the background. \n",
      "\n",
      "Messi is seen walking past a referee while surrounded by spectators and security personnel. \n",
      "\n",
      "The footage highlights Messi interacting with a referee, with excited fans visible behind them. \n",
      "\n",
      "Players and officials are shown on the sidelines, with a crowd of spectators and security personnel present. \n",
      "\n",
      "The scene includes a player in a white jersey near the sideline, with officials and a crowd in orange jackets behind. \n",
      "\n",
      "Players are depicted on the field, alongside officials and a crowd of spectators, with team staff in bright orange jackets. \n",
      "\n",
      "A serious man in a dark coat and scarf sits on a bench, surrounded by individuals in sports attire. \n",
      "\n",
      "The scoreboard reveals a final score of 5-0 in favor of FC Barcelona against Real Madrid, with fans celebrating in the background. \n",
      "\n",
      "Overall, the video captures the excitement and intensity of a significant soccer match, culminating in a decisive victory for FC Barcelona.\n"
     ]
    },
    {
     "data": {
      "text/plain": [
       "'The video descriptions depict various scenes from a soccer match involving FC Barcelona and Real Madrid. \\n\\nA close-up showcases a player\\'s legs in a Barcelona kit with golden cleats on a grassy field. \\n\\nA man in a suit walks past a player in a red and blue striped jersey. \\n\\nA soccer player in a red and blue striped jersey with the \"Barcelona\" logo walks on the field. \\n\\nAnother player in a similar jersey looks up with a focused expression during the game. \\n\\nA young athlete in a blue and red striped jersey also displays a concentrated look. \\n\\nA player in a red and blue jersey with a yellow collar gazes upward with determination. \\n\\nThe video captures a tense moment featuring Lionel Messi in a Barcelona jersey and Cristiano Ronaldo in a white jersey, with officials and fans in the background. \\n\\nMessi is seen walking past a referee while surrounded by spectators and security personnel. \\n\\nThe footage highlights Messi interacting with a referee, with excited fans visible behind them. \\n\\nPlayers and officials are shown on the sidelines, with a crowd of spectators and security personnel present. \\n\\nThe scene includes a player in a white jersey near the sideline, with officials and a crowd in orange jackets behind. \\n\\nPlayers are depicted on the field, alongside officials and a crowd of spectators, with team staff in bright orange jackets. \\n\\nA serious man in a dark coat and scarf sits on a bench, surrounded by individuals in sports attire. \\n\\nThe scoreboard reveals a final score of 5-0 in favor of FC Barcelona against Real Madrid, with fans celebrating in the background. \\n\\nOverall, the video captures the excitement and intensity of a significant soccer match, culminating in a decisive victory for FC Barcelona.'"
      ]
     },
     "execution_count": 5,
     "metadata": {},
     "output_type": "execute_result"
    }
   ],
   "source": [
    "def summarize_csv(csv_path):\n",
    "    df = pd.read_csv(csv_path)\n",
    "    \n",
    "    combined_descriptions = \" \".join(df['Description'].tolist())\n",
    "    \n",
    "    # Create a prompt for the LLM\n",
    "    prompt = f\"Summarize the following descriptions and give a new line after every fullstop, prevent using Another image or the words another moment, Prevent using similar words rather use synonyms, And finally tell me what happened in the video descriptions {combined_descriptions}\"\n",
    "    \n",
    "    # Get the summary from the LLM\n",
    "    response = client.chat.completions.create(\n",
    "        model=MODEL,\n",
    "        messages=[\n",
    "            {\"role\": \"system\", \"content\": \"You are a helpful assistant that summarizes text accurately and concisely.\"},\n",
    "            {\"role\": \"user\", \"content\": prompt}\n",
    "        ],\n",
    "        temperature=0.0,\n",
    "    )\n",
    "    \n",
    "    summary = response.choices[0].message.content.strip()\n",
    "    \n",
    "    print(\"Summary of CSV Descriptions:\")\n",
    "    print(summary)\n",
    "\n",
    "    with open(\"summary.txt\", \"w\") as f:\n",
    "        f.write(summary)\n",
    "    return summary\n",
    "\n",
    "#Summary Exporter\n",
    "csv_path = \"./video_descriptions.csv\"\n",
    "summarize_csv(csv_path)"
   ]
  }
 ],
 "metadata": {
  "kernelspec": {
   "display_name": "Python 3",
   "language": "python",
   "name": "python3"
  },
  "language_info": {
   "codemirror_mode": {
    "name": "ipython",
    "version": 3
   },
   "file_extension": ".py",
   "mimetype": "text/x-python",
   "name": "python",
   "nbconvert_exporter": "python",
   "pygments_lexer": "ipython3",
   "version": "3.12.5"
  }
 },
 "nbformat": 4,
 "nbformat_minor": 2
}
